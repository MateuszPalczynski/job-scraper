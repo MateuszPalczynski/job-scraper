{
 "cells": [
  {
   "cell_type": "code",
   "execution_count": 13,
   "id": "022445f9-a9a0-48a4-8be2-590e0b29fc65",
   "metadata": {},
   "outputs": [],
   "source": [
    "def links_scrap(page_num, link_before=\"https://it.pracuj.pl/praca?pn=\", link_after=\"&its=big-data-science%2Cai-ml\"):   \n",
    "    \n",
    "    all_links = []\n",
    "\n",
    "    URL = link_before + str(page_num) + link_after\n",
    "    page = requests.get(URL)\n",
    "    \n",
    "    soup = BeautifulSoup(page.content, \"html.parser\")\n",
    "    \n",
    "    links = soup.find_all(\"a\", class_=\"tiles_o1859gd9 core_n194fgoq\") \n",
    "    \n",
    "    for link in links:\n",
    "        if \"href\" in link.attrs:\n",
    "            all_links.append(link[\"href\"])\n",
    "\n",
    "    return all_links"
   ]
  },
  {
   "cell_type": "code",
   "execution_count": 14,
   "id": "2703d6fc-588c-4172-aba3-f6c1a79db817",
   "metadata": {},
   "outputs": [
    {
     "name": "stdout",
     "output_type": "stream",
     "text": [
      "489\n"
     ]
    }
   ],
   "source": [
    "import time\n",
    "import requests\n",
    "from bs4 import BeautifulSoup    \n",
    "\n",
    "result = []\n",
    "for i in range(20):\n",
    "    time.sleep(0.5)\n",
    "    result += links_scrap(i)\n",
    "\n",
    "print(len(result))"
   ]
  },
  {
   "cell_type": "code",
   "execution_count": 17,
   "id": "6fcde6ea-3fa3-4890-83bf-d9e49dbb55af",
   "metadata": {},
   "outputs": [
    {
     "data": {
      "text/plain": [
       "'https://www.pracuj.pl/praca/engineering-manager-oracle-cloud-krakow-lubicz-23a,oferta,1003890787'"
      ]
     },
     "execution_count": 17,
     "metadata": {},
     "output_type": "execute_result"
    }
   ],
   "source": [
    "result[0]"
   ]
  },
  {
   "cell_type": "code",
   "execution_count": 22,
   "id": "cef97f52-9538-43c8-81d2-44d3a1a10890",
   "metadata": {},
   "outputs": [
    {
     "data": {
      "text/plain": [
       "[<a class=\"b14qiyz3\" data-color=\"Default\" data-iconcentered=\"false\" data-size=\"M\" data-test=\"anchor-apply\" data-variant=\"Primary\" data-withicon=\"true\" href=\"https://www.pracuj.pl/aplikuj/engineering-manager-oracle-cloud-krakow-lubicz-23a,oferta,1003890787?apid=9f89aa2d-ad4c-43ad-b8fa-5e89534677fa&amp;oca=CouldNotUse&amp;acv=0\" tabindex=\"0\" title=\"Aplikuj na ogłoszenie\"><span class=\"sm8uzh7\" style=\"--sm8uzh7-0:1\"><picture class=\"smborsn\" data-test=\"div-iconLightning\"><svg aria-hidden=\"true\" color=\"currentColor\" fill=\"none\" height=\"24\" role=\"img\" viewbox=\"0 0 24 24\" width=\"24\" xmlns=\"http://www.w3.org/2000/svg\"><g clip-path=\"url(#lightning_svg__a)\"><path d=\"M11.643 2.786a.76.76 0 0 1 .663-.386h3.823a.763.763 0 0 1 .652 1.158l-3.91 6.466h4.01a.762.762 0 0 1 .556 1.284L7.901 21.479a.38.38 0 0 1-.632-.4l3.153-8.005h-3.3a.763.763 0 0 1-.663-1.14z\" stroke=\"currentColor\" stroke-linecap=\"round\" stroke-linejoin=\"round\" stroke-width=\"1.3\"></path></g></svg></picture>Aplikuj szybko</span></a>,\n",
       " <a class=\"b14qiyz3\" data-color=\"Default\" data-iconcentered=\"false\" data-size=\"M\" data-test=\"anchor-apply\" data-variant=\"Primary\" data-withicon=\"true\" href=\"https://www.pracuj.pl/aplikuj/engineering-manager-oracle-cloud-krakow-lubicz-23a,oferta,1003890787?apid=50b46a65-0799-4512-8527-a773e1d0ec60&amp;oca=CouldNotUse&amp;acv=0\" tabindex=\"0\" title=\"Aplikuj na ogłoszenie\"><span class=\"sm8uzh7\" style=\"--sm8uzh7-0:1\"><picture class=\"smborsn\" data-test=\"div-iconLightning\"><svg aria-hidden=\"true\" color=\"currentColor\" fill=\"none\" height=\"24\" role=\"img\" viewbox=\"0 0 24 24\" width=\"24\" xmlns=\"http://www.w3.org/2000/svg\"><g clip-path=\"url(#lightning_svg__a)\"><path d=\"M11.643 2.786a.76.76 0 0 1 .663-.386h3.823a.763.763 0 0 1 .652 1.158l-3.91 6.466h4.01a.762.762 0 0 1 .556 1.284L7.901 21.479a.38.38 0 0 1-.632-.4l3.153-8.005h-3.3a.763.763 0 0 1-.663-1.14z\" stroke=\"currentColor\" stroke-linecap=\"round\" stroke-linejoin=\"round\" stroke-width=\"1.3\"></path></g></svg></picture>Aplikuj szybko</span></a>,\n",
       " <a class=\"b14qiyz3\" data-color=\"Default\" data-iconcentered=\"false\" data-size=\"L\" data-test=\"anchor-apply\" data-variant=\"Primary\" data-withicon=\"true\" href=\"https://www.pracuj.pl/aplikuj/engineering-manager-oracle-cloud-krakow-lubicz-23a,oferta,1003890787?apid=4a82f04c-e051-4d6e-b415-94d356dd328b&amp;oca=CouldNotUse&amp;acv=0\" tabindex=\"0\" title=\"Aplikuj na ogłoszenie\"><span class=\"sm8uzh7\" style=\"--sm8uzh7-0:1\"><picture class=\"smborsn\" data-test=\"div-iconLightning\"><svg aria-hidden=\"true\" color=\"currentColor\" fill=\"none\" height=\"24\" role=\"img\" viewbox=\"0 0 24 24\" width=\"24\" xmlns=\"http://www.w3.org/2000/svg\"><g clip-path=\"url(#lightning_svg__a)\"><path d=\"M11.643 2.786a.76.76 0 0 1 .663-.386h3.823a.763.763 0 0 1 .652 1.158l-3.91 6.466h4.01a.762.762 0 0 1 .556 1.284L7.901 21.479a.38.38 0 0 1-.632-.4l3.153-8.005h-3.3a.763.763 0 0 1-.663-1.14z\" stroke=\"currentColor\" stroke-linecap=\"round\" stroke-linejoin=\"round\" stroke-width=\"1.3\"></path></g></svg></picture><span class=\"s1u5ksyd\">Aplikuj szybko</span></span></a>]"
      ]
     },
     "execution_count": 22,
     "metadata": {},
     "output_type": "execute_result"
    }
   ],
   "source": [
    "URL = result[0]\n",
    "page = requests.get(URL)\n",
    "    \n",
    "soup = BeautifulSoup(page.content, \"html.parser\")\n",
    "\n",
    "data = soup.find_all(\"a\", class_=\"b14qiyz3\") \n",
    "data"
   ]
  },
  {
   "cell_type": "code",
   "execution_count": null,
   "id": "55c3fa2a-2370-42c7-b22e-00803fb019d7",
   "metadata": {},
   "outputs": [],
   "source": [
    "\"\"\"\n",
    "<ul data-test=\"sections-benefit-list\" class=\"caor1s3\">\n",
    "\n",
    "<ul data-test=\"aggregate-open-dictionary-model\" class=\"cku9rky\">\n",
    "\n",
    "<ul data-test=\"aggregate-bullet-model\" class=\"cmjq3hn\">\n",
    "\n",
    "<ul data-test=\"aggregate-bullet-model\" class=\"cmjq3hn\">\n",
    "\n",
    "<a class=\"b14qiyz3\" ... href=\"link\"\n",
    "\"\"\""
   ]
  }
 ],
 "metadata": {
  "kernelspec": {
   "display_name": "Python 3",
   "language": "python",
   "name": "python3"
  },
  "language_info": {
   "codemirror_mode": {
    "name": "ipython",
    "version": 3
   },
   "file_extension": ".py",
   "mimetype": "text/x-python",
   "name": "python",
   "nbconvert_exporter": "python",
   "pygments_lexer": "ipython3",
   "version": "3.11.5"
  }
 },
 "nbformat": 4,
 "nbformat_minor": 5
}
